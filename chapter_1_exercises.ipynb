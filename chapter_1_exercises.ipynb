{
  "nbformat": 4,
  "nbformat_minor": 0,
  "metadata": {
    "colab": {
      "name": "chapter_1_exercises.ipynb",
      "provenance": []
    },
    "kernelspec": {
      "name": "python3",
      "display_name": "Python 3"
    },
    "language_info": {
      "name": "python"
    }
  },
  "cells": [
    {
      "cell_type": "code",
      "source": [
        "x = \"Ravi\"\n",
        "print(x)\n",
        "input (\"\\n\\nPress the key to exit.\")"
      ],
      "metadata": {
        "colab": {
          "base_uri": "https://localhost:8080/",
          "height": 105
        },
        "id": "gPfpXZi2CEUf",
        "outputId": "c3fa659d-4bd2-4110-807f-f967cd3d7aa4"
      },
      "execution_count": 2,
      "outputs": [
        {
          "name": "stdout",
          "output_type": "stream",
          "text": [
            "Ravi\n",
            "\n",
            "\n",
            "Press the key to exit.\n"
          ]
        },
        {
          "output_type": "execute_result",
          "data": {
            "text/plain": [
              "''"
            ],
            "application/vnd.google.colaboratory.intrinsic+json": {
              "type": "string"
            }
          },
          "metadata": {},
          "execution_count": 2
        }
      ]
    },
    {
      "cell_type": "code",
      "source": [
        "y = ''' quote: your happiness should not be decided by the actions of others \\ncredit :Saree '''\n",
        "print(y)"
      ],
      "metadata": {
        "colab": {
          "base_uri": "https://localhost:8080/"
        },
        "id": "3UhKwNr2Cu3W",
        "outputId": "af05d36d-65db-4bde-cef9-ffaec8b6a296"
      },
      "execution_count": 7,
      "outputs": [
        {
          "output_type": "stream",
          "name": "stdout",
          "text": [
            " quote: your happiness should not be decided by the actions of others \n",
            "credit :Saree \n"
          ]
        }
      ]
    }
  ]
}