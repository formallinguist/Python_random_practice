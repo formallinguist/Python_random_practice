{
  "nbformat": 4,
  "nbformat_minor": 0,
  "metadata": {
    "colab": {
      "name": "Basic_data_types.ipynb",
      "provenance": []
    },
    "kernelspec": {
      "name": "python3",
      "display_name": "Python 3"
    },
    "language_info": {
      "name": "python"
    }
  },
  "cells": [
    {
      "cell_type": "markdown",
      "source": [
        "#Basic_data_Types_in_python.\n",
        "1.Integer: they are real numbers.\n",
        "2.Floating point: Decimal numbers\n",
        "3.Complex: real or imaginary numbers\n",
        "4.Boolean: true/false\n",
        "5.strings: text or statements"
      ],
      "metadata": {
        "id": "Bj69iwp5RJYi"
      }
    },
    {
      "cell_type": "code",
      "execution_count": null,
      "metadata": {
        "colab": {
          "base_uri": "https://localhost:8080/"
        },
        "id": "uGq1W8ENQ-h4",
        "outputId": "83b5fe83-5d18-4683-cfb0-6e95fb2efea2"
      },
      "outputs": [
        {
          "output_type": "stream",
          "name": "stdout",
          "text": [
            "8\n"
          ]
        }
      ],
      "source": [
        "#Integers.\n",
        "a= 8\n",
        "print(a)"
      ]
    },
    {
      "cell_type": "code",
      "source": [
        "#To know about data type.\n",
        "type(a)"
      ],
      "metadata": {
        "colab": {
          "base_uri": "https://localhost:8080/"
        },
        "id": "dEGH5aLBR8MI",
        "outputId": "4be6719c-e464-4d95-cf35-a5583a1b7e9c"
      },
      "execution_count": null,
      "outputs": [
        {
          "output_type": "execute_result",
          "data": {
            "text/plain": [
              "int"
            ]
          },
          "metadata": {},
          "execution_count": 2
        }
      ]
    },
    {
      "cell_type": "code",
      "source": [
        "#Floating point.\n",
        "b= 3.8\n",
        "print(b)\n",
        "type(b)"
      ],
      "metadata": {
        "colab": {
          "base_uri": "https://localhost:8080/"
        },
        "id": "MeGOYEcSSGNQ",
        "outputId": "5e5549b1-88f3-4522-9712-1bf34e6e84d5"
      },
      "execution_count": null,
      "outputs": [
        {
          "output_type": "stream",
          "name": "stdout",
          "text": [
            "3.8\n"
          ]
        },
        {
          "output_type": "execute_result",
          "data": {
            "text/plain": [
              "float"
            ]
          },
          "metadata": {},
          "execution_count": 3
        }
      ]
    },
    {
      "cell_type": "code",
      "source": [
        "#Complex numbers.\n",
        "c = 1+3j\n",
        "print(c)\n",
        "type(c)"
      ],
      "metadata": {
        "colab": {
          "base_uri": "https://localhost:8080/"
        },
        "id": "TLyNgdjZSVNu",
        "outputId": "fd299b98-7b21-4bb0-9c20-4fd4f9bd054d"
      },
      "execution_count": null,
      "outputs": [
        {
          "output_type": "stream",
          "name": "stdout",
          "text": [
            "(1+3j)\n"
          ]
        },
        {
          "output_type": "execute_result",
          "data": {
            "text/plain": [
              "complex"
            ]
          },
          "metadata": {},
          "execution_count": 4
        }
      ]
    },
    {
      "cell_type": "markdown",
      "source": [
        "#Conversion of one data type into another"
      ],
      "metadata": {
        "id": "rHEWnsqkSmUo"
      }
    },
    {
      "cell_type": "code",
      "source": [
        "#int to float\n",
        "x = 10\n",
        "print(x)\n",
        "type(x)"
      ],
      "metadata": {
        "colab": {
          "base_uri": "https://localhost:8080/"
        },
        "id": "iC1nS00CSj_6",
        "outputId": "fdcd0af9-7eea-4920-db56-b1f54be6a779"
      },
      "execution_count": null,
      "outputs": [
        {
          "output_type": "stream",
          "name": "stdout",
          "text": [
            "10\n"
          ]
        },
        {
          "output_type": "execute_result",
          "data": {
            "text/plain": [
              "int"
            ]
          },
          "metadata": {},
          "execution_count": 6
        }
      ]
    },
    {
      "cell_type": "code",
      "source": [
        "y = float(x)"
      ],
      "metadata": {
        "id": "BF-ty3VRSyAr"
      },
      "execution_count": null,
      "outputs": []
    },
    {
      "cell_type": "code",
      "source": [
        "print(y)"
      ],
      "metadata": {
        "colab": {
          "base_uri": "https://localhost:8080/"
        },
        "id": "6Ka2kQqZS4XT",
        "outputId": "f5234ebc-753a-41ea-d1e2-3abcc0bc0940"
      },
      "execution_count": null,
      "outputs": [
        {
          "output_type": "stream",
          "name": "stdout",
          "text": [
            "10.0\n"
          ]
        }
      ]
    },
    {
      "cell_type": "code",
      "source": [
        "type(y)"
      ],
      "metadata": {
        "colab": {
          "base_uri": "https://localhost:8080/"
        },
        "id": "zeaxvh9US6Rz",
        "outputId": "0e37e9aa-0577-44be-97e3-c10df92e4b0d"
      },
      "execution_count": null,
      "outputs": [
        {
          "output_type": "execute_result",
          "data": {
            "text/plain": [
              "float"
            ]
          },
          "metadata": {},
          "execution_count": 9
        }
      ]
    },
    {
      "cell_type": "code",
      "source": [
        "#converting floating point to integer.\n",
        "z = int(y)\n",
        "print(z)\n",
        "type(z)"
      ],
      "metadata": {
        "colab": {
          "base_uri": "https://localhost:8080/"
        },
        "id": "YUf46ZcRS9XL",
        "outputId": "2bb87abe-fcd4-48fa-b95b-a41ce728cb31"
      },
      "execution_count": null,
      "outputs": [
        {
          "output_type": "stream",
          "name": "stdout",
          "text": [
            "10\n"
          ]
        },
        {
          "output_type": "execute_result",
          "data": {
            "text/plain": [
              "int"
            ]
          },
          "metadata": {},
          "execution_count": 11
        }
      ]
    },
    {
      "cell_type": "markdown",
      "source": [
        "#Boolean\n",
        "1. True\n",
        "2. False"
      ],
      "metadata": {
        "id": "S9BrWngFTcnt"
      }
    },
    {
      "cell_type": "code",
      "source": [
        "\n",
        "a = True\n",
        "b= False\n",
        "#type(a)\n",
        "#type(b)\n",
        "print(a)\n",
        "print(b)"
      ],
      "metadata": {
        "colab": {
          "base_uri": "https://localhost:8080/"
        },
        "id": "hctGo_wbTKwp",
        "outputId": "d89fee6e-7b0c-489a-8899-7ecec8e6af4b"
      },
      "execution_count": null,
      "outputs": [
        {
          "output_type": "stream",
          "name": "stdout",
          "text": [
            "True\n",
            "False\n"
          ]
        }
      ]
    },
    {
      "cell_type": "code",
      "source": [
        "#type (a)\n",
        "type(b)"
      ],
      "metadata": {
        "colab": {
          "base_uri": "https://localhost:8080/"
        },
        "id": "LYGKQjg6TznR",
        "outputId": "f06be577-d672-4510-af98-b2218f457976"
      },
      "execution_count": null,
      "outputs": [
        {
          "output_type": "execute_result",
          "data": {
            "text/plain": [
              "bool"
            ]
          },
          "metadata": {},
          "execution_count": 14
        }
      ]
    },
    {
      "cell_type": "code",
      "source": [
        "type(a)"
      ],
      "metadata": {
        "colab": {
          "base_uri": "https://localhost:8080/"
        },
        "id": "LrAdraANT7g_",
        "outputId": "9be7b569-a55c-470b-cf70-27e876889a4b"
      },
      "execution_count": null,
      "outputs": [
        {
          "output_type": "execute_result",
          "data": {
            "text/plain": [
              "bool"
            ]
          },
          "metadata": {},
          "execution_count": 15
        }
      ]
    },
    {
      "cell_type": "code",
      "source": [
        "a= 7\n",
        "b = 4\n",
        "z= a>b\n",
        "print(z)"
      ],
      "metadata": {
        "colab": {
          "base_uri": "https://localhost:8080/"
        },
        "id": "Y8LcMAe2UJeZ",
        "outputId": "9c803454-81a8-474d-870f-3897f390f7a3"
      },
      "execution_count": null,
      "outputs": [
        {
          "output_type": "stream",
          "name": "stdout",
          "text": [
            "True\n"
          ]
        }
      ]
    },
    {
      "cell_type": "code",
      "source": [
        "type(z)"
      ],
      "metadata": {
        "colab": {
          "base_uri": "https://localhost:8080/"
        },
        "id": "Qsc3ssvhUWpv",
        "outputId": "a103c81c-88bc-4ed9-c2c3-0db69e11b58f"
      },
      "execution_count": null,
      "outputs": [
        {
          "output_type": "execute_result",
          "data": {
            "text/plain": [
              "bool"
            ]
          },
          "metadata": {},
          "execution_count": 17
        }
      ]
    },
    {
      "cell_type": "markdown",
      "source": [
        "#Strings\n",
        "1. Text and Statement."
      ],
      "metadata": {
        "id": "pdTOoUnDUa8b"
      }
    },
    {
      "cell_type": "code",
      "source": [
        "print(\"Machine learning\")"
      ],
      "metadata": {
        "colab": {
          "base_uri": "https://localhost:8080/"
        },
        "id": "kLaBCKHcUYlo",
        "outputId": "6188c94a-6b60-4255-f934-6e1b1ff108e5"
      },
      "execution_count": null,
      "outputs": [
        {
          "output_type": "stream",
          "name": "stdout",
          "text": [
            "Machine learning\n"
          ]
        }
      ]
    },
    {
      "cell_type": "code",
      "source": [
        "print('machine learning')"
      ],
      "metadata": {
        "colab": {
          "base_uri": "https://localhost:8080/"
        },
        "id": "F9mP2skZUn1P",
        "outputId": "c6d3724a-5223-4c90-9666-401bd29f0c35"
      },
      "execution_count": null,
      "outputs": [
        {
          "output_type": "stream",
          "name": "stdout",
          "text": [
            "machine learning\n"
          ]
        }
      ]
    },
    {
      "cell_type": "code",
      "source": [
        "my_string = \"machine learning\"\n",
        "print(my_string)"
      ],
      "metadata": {
        "colab": {
          "base_uri": "https://localhost:8080/"
        },
        "id": "aSYSekpdUrGl",
        "outputId": "06218b28-fa7e-456a-eff1-fe58f05f07a4"
      },
      "execution_count": null,
      "outputs": [
        {
          "output_type": "stream",
          "name": "stdout",
          "text": [
            "machine learning\n"
          ]
        }
      ]
    },
    {
      "cell_type": "code",
      "source": [
        "type(my_string)"
      ],
      "metadata": {
        "colab": {
          "base_uri": "https://localhost:8080/"
        },
        "id": "vHGKpaHvU67R",
        "outputId": "f221cf03-d652-4505-ddcc-af87fbb7cd03"
      },
      "execution_count": null,
      "outputs": [
        {
          "output_type": "execute_result",
          "data": {
            "text/plain": [
              "str"
            ]
          },
          "metadata": {},
          "execution_count": 22
        }
      ]
    },
    {
      "cell_type": "code",
      "source": [
        "print(\"hello\"*7)"
      ],
      "metadata": {
        "colab": {
          "base_uri": "https://localhost:8080/"
        },
        "id": "Y_bmPkAGU_82",
        "outputId": "0cfacbca-3e8b-4bb3-e5f4-73c0d28c3f00"
      },
      "execution_count": null,
      "outputs": [
        {
          "output_type": "stream",
          "name": "stdout",
          "text": [
            "hellohellohellohellohellohellohello\n"
          ]
        }
      ]
    },
    {
      "cell_type": "markdown",
      "source": [
        "#Slicing"
      ],
      "metadata": {
        "id": "WYz5AUH5VK5b"
      }
    },
    {
      "cell_type": "code",
      "source": [
        "my_string = \"computers\""
      ],
      "metadata": {
        "id": "rS0pCaQCVHqn"
      },
      "execution_count": null,
      "outputs": []
    },
    {
      "cell_type": "code",
      "source": [
        "print(my_string[1:4]) #values from index 1 to 4-(minus) 1 will be sliced."
      ],
      "metadata": {
        "colab": {
          "base_uri": "https://localhost:8080/"
        },
        "id": "MynaG3nPVTKz",
        "outputId": "f31c4865-22cc-4246-b6e6-5480b595b9d9"
      },
      "execution_count": null,
      "outputs": [
        {
          "output_type": "stream",
          "name": "stdout",
          "text": [
            "omp\n"
          ]
        }
      ]
    },
    {
      "cell_type": "code",
      "source": [
        "#step\n",
        "print(my_string[0:6:2])"
      ],
      "metadata": {
        "colab": {
          "base_uri": "https://localhost:8080/"
        },
        "id": "kitTlFXwVb_h",
        "outputId": "5e945686-6cb5-471e-b5c3-4d0f7524c32c"
      },
      "execution_count": null,
      "outputs": [
        {
          "output_type": "stream",
          "name": "stdout",
          "text": [
            "cmu\n"
          ]
        }
      ]
    },
    {
      "cell_type": "markdown",
      "source": [
        "#String concatenation"
      ],
      "metadata": {
        "id": "XdjovcQNWSB7"
      }
    },
    {
      "cell_type": "code",
      "source": [
        "word_1 = \"machine\"\n",
        "word_2 = \"learning\""
      ],
      "metadata": {
        "id": "f2-MSAWKWFQH"
      },
      "execution_count": null,
      "outputs": []
    },
    {
      "cell_type": "code",
      "source": [
        "print(word_1,word_2)"
      ],
      "metadata": {
        "id": "YFspNPzHWe9U",
        "outputId": "644c6280-bbf8-4b76-97a3-6da120ebff2f",
        "colab": {
          "base_uri": "https://localhost:8080/"
        }
      },
      "execution_count": null,
      "outputs": [
        {
          "output_type": "stream",
          "name": "stdout",
          "text": [
            "machine learning\n"
          ]
        }
      ]
    },
    {
      "cell_type": "code",
      "source": [
        ""
      ],
      "metadata": {
        "id": "Lqv49wGDWi7j"
      },
      "execution_count": null,
      "outputs": []
    }
  ]
}