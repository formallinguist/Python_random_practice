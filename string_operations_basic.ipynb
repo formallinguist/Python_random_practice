{
  "nbformat": 4,
  "nbformat_minor": 0,
  "metadata": {
    "colab": {
      "name": "string_operations_basic",
      "provenance": []
    },
    "kernelspec": {
      "name": "python3",
      "display_name": "Python 3"
    },
    "language_info": {
      "name": "python"
    }
  },
  "cells": [
    {
      "cell_type": "code",
      "execution_count": 1,
      "metadata": {
        "colab": {
          "base_uri": "https://localhost:8080/"
        },
        "id": "ix5z-DwA3Kfx",
        "outputId": "ef4f0ba2-f70d-4536-ede0-ab418f69b63b"
      },
      "outputs": [
        {
          "output_type": "stream",
          "name": "stdout",
          "text": [
            "\t\t\tFancy Credits\n"
          ]
        }
      ],
      "source": [
        "print(\"\\t\\t\\tFancy Credits\")"
      ]
    },
    {
      "cell_type": "code",
      "source": [
        "print(\"\\t\\t\\t\\tby\")"
      ],
      "metadata": {
        "colab": {
          "base_uri": "https://localhost:8080/"
        },
        "id": "b5emAZY_3bTs",
        "outputId": "a86af88a-0864-4e01-e93f-2945d5776e9b"
      },
      "execution_count": 2,
      "outputs": [
        {
          "output_type": "stream",
          "name": "stdout",
          "text": [
            "\t\t\t\tby\n"
          ]
        }
      ]
    },
    {
      "cell_type": "code",
      "source": [
        "print(\"\\t\\t\\tMichael Dawnson\")"
      ],
      "metadata": {
        "colab": {
          "base_uri": "https://localhost:8080/"
        },
        "id": "dMeov_ib31xu",
        "outputId": "1c96ee1f-e6b8-4f69-fc7d-405cac3f6ee1"
      },
      "execution_count": 3,
      "outputs": [
        {
          "output_type": "stream",
          "name": "stdout",
          "text": [
            "\t\t\tMichael Dawnson\n"
          ]
        }
      ]
    },
    {
      "cell_type": "code",
      "source": [
        "print(\"\\nSpecial life is about to begin:\")"
      ],
      "metadata": {
        "colab": {
          "base_uri": "https://localhost:8080/"
        },
        "id": "JljiNG7b3_C7",
        "outputId": "6050bd9b-12a2-4312-da00-5cf97eb9a68a"
      },
      "execution_count": 4,
      "outputs": [
        {
          "output_type": "stream",
          "name": "stdout",
          "text": [
            "\n",
            "Special life is about to begin:\n"
          ]
        }
      ]
    },
    {
      "cell_type": "code",
      "source": [
        "print(\"My health doctor, Henry \\'The Great,\\'who never says\\\"can\\'t.\\\"\")"
      ],
      "metadata": {
        "colab": {
          "base_uri": "https://localhost:8080/"
        },
        "id": "6fTkth1M4MIx",
        "outputId": "cb9d9853-3764-414f-da55-aa68fc470bd6"
      },
      "execution_count": 5,
      "outputs": [
        {
          "output_type": "stream",
          "name": "stdout",
          "text": [
            "My health doctor, Henry 'The Great,'who never says\"can't.\"\n"
          ]
        }
      ]
    },
    {
      "cell_type": "code",
      "source": [
        "print(\"\\a\")"
      ],
      "metadata": {
        "colab": {
          "base_uri": "https://localhost:8080/"
        },
        "id": "Qn6f64dT41gi",
        "outputId": "e5dbf81b-dae3-4f0e-e823-f282d7c0fa31"
      },
      "execution_count": 8,
      "outputs": [
        {
          "output_type": "stream",
          "name": "stdout",
          "text": [
            "\u0007\n"
          ]
        }
      ]
    },
    {
      "cell_type": "code",
      "source": [
        "print(\"pie\" \" \" *10)"
      ],
      "metadata": {
        "colab": {
          "base_uri": "https://localhost:8080/"
        },
        "id": "E-5BbU0c6eAN",
        "outputId": "59bf025d-3be7-4ed0-ecb7-ca29cf570a78"
      },
      "execution_count": 13,
      "outputs": [
        {
          "output_type": "stream",
          "name": "stdout",
          "text": [
            "pie pie pie pie pie pie pie pie pie pie \n"
          ]
        }
      ]
    },
    {
      "cell_type": "code",
      "source": [
        "name = input(\"Hi. What's your name?\")\n",
        "age = input(\"how old are you\")\n",
        "age = int(age)\n",
        "weight = int(input(\"okay, last question. how many pounds do you weigh?\"))"
      ],
      "metadata": {
        "colab": {
          "base_uri": "https://localhost:8080/"
        },
        "id": "OglF50fT7pYx",
        "outputId": "9bd52407-3780-495d-9e7a-17d5a9f9dcbf"
      },
      "execution_count": 16,
      "outputs": [
        {
          "name": "stdout",
          "output_type": "stream",
          "text": [
            "Hi. What's your name? ravi\n",
            "how old are you26\n",
            "okay, last question. how many pounds do you weigh?56\n"
          ]
        }
      ]
    },
    {
      "cell_type": "code",
      "source": [
        " "
      ],
      "metadata": {
        "id": "DOwYfL8U_jEz"
      },
      "execution_count": null,
      "outputs": []
    }
  ]
}