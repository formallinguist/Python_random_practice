{
  "nbformat": 4,
  "nbformat_minor": 0,
  "metadata": {
    "colab": {
      "name": "Functions.ipynb",
      "provenance": []
    },
    "kernelspec": {
      "name": "python3",
      "display_name": "Python 3"
    },
    "language_info": {
      "name": "python"
    }
  },
  "cells": [
    {
      "cell_type": "code",
      "source": [
        "#creating function without arguments.\n",
        "def sayhello():\n",
        "  print('hello linguist')\n"
      ],
      "metadata": {
        "id": "CLtuoez3K9Al"
      },
      "execution_count": 7,
      "outputs": []
    },
    {
      "cell_type": "code",
      "source": [
        "#calling the function\n",
        "sayhello()"
      ],
      "metadata": {
        "colab": {
          "base_uri": "https://localhost:8080/"
        },
        "id": "FjztAo2Ch9WR",
        "outputId": "e84dcc5b-344c-43de-a3d0-cb3c4b49b5eb"
      },
      "execution_count": 8,
      "outputs": [
        {
          "output_type": "stream",
          "name": "stdout",
          "text": [
            "hello linguist\n"
          ]
        }
      ]
    },
    {
      "cell_type": "code",
      "source": [
        "#creating the function with arguments.\n",
        "\n",
        "def sayhello(name):\n",
        "  print('hello' + name)\n"
      ],
      "metadata": {
        "id": "HAjyct_EiVMT"
      },
      "execution_count": 9,
      "outputs": []
    },
    {
      "cell_type": "code",
      "source": [
        "name = 'ravi'"
      ],
      "metadata": {
        "id": "K_XvK7MXi96b"
      },
      "execution_count": 13,
      "outputs": []
    },
    {
      "cell_type": "code",
      "source": [
        "\n",
        "sayhello(name)"
      ],
      "metadata": {
        "colab": {
          "base_uri": "https://localhost:8080/"
        },
        "id": "FGXccosGizg0",
        "outputId": "fcb7bebd-2085-4b8c-c781-1688fa3982d8"
      },
      "execution_count": 14,
      "outputs": [
        {
          "output_type": "stream",
          "name": "stdout",
          "text": [
            "helloravi\n"
          ]
        }
      ]
    },
    {
      "cell_type": "code",
      "source": [
        "# creating global variable with function\n",
        "# using scope\n",
        "def sayhello(name):\n",
        "  greetings = 'Hello'+ ' ' + name\n",
        "  return greetings"
      ],
      "metadata": {
        "id": "T0LQEZv5j4c3"
      },
      "execution_count": 21,
      "outputs": []
    },
    {
      "cell_type": "code",
      "source": [
        "person = 'Divya'\n",
        "greetings = sayhello(person)\n",
        "print(greetings)"
      ],
      "metadata": {
        "colab": {
          "base_uri": "https://localhost:8080/"
        },
        "id": "eUTdkvmHkPTF",
        "outputId": "35c24e7e-30b8-4d01-f834-e3fafb4c72a2"
      },
      "execution_count": 19,
      "outputs": [
        {
          "output_type": "stream",
          "name": "stdout",
          "text": [
            "Hello Divya\n"
          ]
        }
      ]
    }
  ]
}