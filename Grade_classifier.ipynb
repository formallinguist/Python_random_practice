{
  "nbformat": 4,
  "nbformat_minor": 0,
  "metadata": {
    "colab": {
      "name": "Grade classifier.ipynb",
      "provenance": []
    },
    "kernelspec": {
      "name": "python3",
      "display_name": "Python 3"
    },
    "language_info": {
      "name": "python"
    }
  },
  "cells": [
    {
      "cell_type": "code",
      "source": [
        "# creating a grade classifier based on marks.\n",
        "'''A: 80 - 100\n",
        "B: 70- 79\n",
        "c: 60-69\n",
        "D: 50 - 59\n",
        "E: 0 - 49'''\n",
        "\n",
        "mark = int(input('enter your mark  '))\n",
        "if mark > 80:\n",
        "  grade = 'A'\n",
        "elif mark > 70:\n",
        "  grade ='B'\n",
        "elif mark > 60:\n",
        "  grade = 'c'\n",
        "elif mark > 50:\n",
        "  grade='D'\n",
        "else:\n",
        "  grade = 'E'\n",
        "print(grade)\n",
        "# giving feed back or advises.\n",
        "if grade == 'F':\n",
        "  print('Please work hard! and better luck next time')\n",
        "elif grade == 'A':\n",
        "  print('Well done! you have cleared the course with an outstanding grade')\n",
        "else:\n",
        "  print('You have sucessfully completed the course!')"
      ],
      "metadata": {
        "colab": {
          "base_uri": "https://localhost:8080/"
        },
        "id": "zYgYz8I6ynLW",
        "outputId": "4a96d095-76f5-465d-ea58-09e49cc8b341"
      },
      "execution_count": 16,
      "outputs": [
        {
          "output_type": "stream",
          "name": "stdout",
          "text": [
            "enter your mark  76\n",
            "B\n",
            "You have sucessfully completed the course\n"
          ]
        }
      ]
    }
  ]
}