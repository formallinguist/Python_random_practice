{
  "nbformat": 4,
  "nbformat_minor": 0,
  "metadata": {
    "colab": {
      "name": "objects_data_types.ipynb",
      "provenance": []
    },
    "kernelspec": {
      "name": "python3",
      "display_name": "Python 3"
    },
    "language_info": {
      "name": "python"
    }
  },
  "cells": [
    {
      "cell_type": "markdown",
      "source": [
        "#Types of objects in python\n",
        "1.Immutable objects\n",
        "2.Mutable objects"
      ],
      "metadata": {
        "id": "iIyO-GZJSKqN"
      }
    },
    {
      "cell_type": "markdown",
      "source": [
        "Immutable objects\n",
        "1. integers\n",
        "2. Float\n",
        "3. string\n",
        "4. boolean\n",
        "5. tuple"
      ],
      "metadata": {
        "id": "zfxyfVq6SVpN"
      }
    },
    {
      "cell_type": "markdown",
      "source": [
        "Mutable objects\n",
        "1. List\n",
        "2. Set\n",
        "3. Dictionary"
      ],
      "metadata": {
        "id": "p9pTRH2VSib-"
      }
    },
    {
      "cell_type": "markdown",
      "source": [
        "#List"
      ],
      "metadata": {
        "id": "oU0-0XmnSyRy"
      }
    },
    {
      "cell_type": "code",
      "execution_count": 1,
      "metadata": {
        "colab": {
          "base_uri": "https://localhost:8080/"
        },
        "id": "YewvmSjNSA-i",
        "outputId": "7a78132a-75a1-41e3-939e-2f1726bd471f"
      },
      "outputs": [
        {
          "output_type": "stream",
          "name": "stdout",
          "text": [
            "[1, 2, 3, 4, 5]\n"
          ]
        }
      ],
      "source": [
        "# Lists are enclosed in \"[..]\",they can store multiple values.\n",
        "my_list = [1,2,3,4,5]\n",
        "print(my_list)"
      ]
    },
    {
      "cell_type": "code",
      "source": [
        "type(my_list)"
      ],
      "metadata": {
        "colab": {
          "base_uri": "https://localhost:8080/"
        },
        "id": "7vXb4sBlTFrI",
        "outputId": "2a6dbd08-ce87-48ad-c7b8-e8413dc3342b"
      },
      "execution_count": 2,
      "outputs": [
        {
          "output_type": "execute_result",
          "data": {
            "text/plain": [
              "list"
            ]
          },
          "metadata": {},
          "execution_count": 2
        }
      ]
    },
    {
      "cell_type": "code",
      "source": [
        "# list can have multiple data types. where as set does not allow this, set can have only one type of data.\n",
        "my_new_list = [1,2,3,4,5,\"English\", \"Maths\", 3.4, ]"
      ],
      "metadata": {
        "id": "1gBe8_6zTK0N"
      },
      "execution_count": 4,
      "outputs": []
    },
    {
      "cell_type": "code",
      "source": [
        "print(my_new_list)"
      ],
      "metadata": {
        "colab": {
          "base_uri": "https://localhost:8080/"
        },
        "id": "lGfZ1PxSTk6_",
        "outputId": "1a104721-04ea-45b2-a4ec-a57f455f90fa"
      },
      "execution_count": 5,
      "outputs": [
        {
          "output_type": "stream",
          "name": "stdout",
          "text": [
            "[1, 2, 3, 4, 5, 'English', 'Maths', 3.4]\n"
          ]
        }
      ]
    },
    {
      "cell_type": "code",
      "source": [
        "#Adding elements to the list.\n",
        "my_new_list = [1,2,3,4,5,\"English\", \"Maths\", 3.4, ]\n",
        "my_new_list.append(\"Apple\")\n",
        "print(my_new_list)"
      ],
      "metadata": {
        "colab": {
          "base_uri": "https://localhost:8080/"
        },
        "id": "BmrC6izQTvN3",
        "outputId": "3f324a93-cb11-4c4d-ff62-5050650f4f07"
      },
      "execution_count": 8,
      "outputs": [
        {
          "output_type": "stream",
          "name": "stdout",
          "text": [
            "[1, 2, 3, 4, 5, 'English', 'Maths', 3.4, 'Apple']\n"
          ]
        }
      ]
    },
    {
      "cell_type": "code",
      "source": [
        "#Print elements usingg their index.\n",
        "print(my_new_list[4])\n",
        "print(my_new_list[7])"
      ],
      "metadata": {
        "colab": {
          "base_uri": "https://localhost:8080/"
        },
        "id": "BOBuzvJTT5ZX",
        "outputId": "05a9c3a6-cd9a-417c-c6e8-2b9b2f452bff"
      },
      "execution_count": 9,
      "outputs": [
        {
          "output_type": "stream",
          "name": "stdout",
          "text": [
            "5\n",
            "3.4\n"
          ]
        }
      ]
    },
    {
      "cell_type": "code",
      "source": [
        "#Lists allow the duplicate values, sets donot allow duplicate values.\n",
        "list_1 = [1,1,2,2,3,4,5,7.8,3,4,5,]\n",
        "print(list_1)"
      ],
      "metadata": {
        "colab": {
          "base_uri": "https://localhost:8080/"
        },
        "id": "vl6QS5eJUVlU",
        "outputId": "9c32b226-517b-4851-e21a-abd4941b3c67"
      },
      "execution_count": 11,
      "outputs": [
        {
          "output_type": "stream",
          "name": "stdout",
          "text": [
            "[1, 1, 2, 2, 3, 4, 5, 7.8, 3, 4, 5]\n"
          ]
        }
      ]
    },
    {
      "cell_type": "code",
      "source": [
        "#Checking the number of elements in the list\n",
        "len(list_1)"
      ],
      "metadata": {
        "colab": {
          "base_uri": "https://localhost:8080/"
        },
        "id": "mYdWFH6EU9wd",
        "outputId": "fd0e0bd2-0283-49cd-85ed-06ee328d5321"
      },
      "execution_count": 12,
      "outputs": [
        {
          "output_type": "execute_result",
          "data": {
            "text/plain": [
              "11"
            ]
          },
          "metadata": {},
          "execution_count": 12
        }
      ]
    },
    {
      "cell_type": "code",
      "source": [
        "#Initiating an empty list\n",
        "list_2 = []\n",
        "print(list_2)"
      ],
      "metadata": {
        "colab": {
          "base_uri": "https://localhost:8080/"
        },
        "id": "O_-NwWjlVK2Z",
        "outputId": "5ff88782-8326-421a-b1cb-2c1a7f94db46"
      },
      "execution_count": 14,
      "outputs": [
        {
          "output_type": "stream",
          "name": "stdout",
          "text": [
            "[]\n"
          ]
        }
      ]
    },
    {
      "cell_type": "code",
      "source": [
        "list_2.append('apple')"
      ],
      "metadata": {
        "id": "iQOChBx5VS_W"
      },
      "execution_count": 15,
      "outputs": []
    },
    {
      "cell_type": "code",
      "source": [
        "print(list_2)"
      ],
      "metadata": {
        "colab": {
          "base_uri": "https://localhost:8080/"
        },
        "id": "io18RD-WVaGA",
        "outputId": "5c50f46b-6b9e-42ec-d3ac-cebb35514779"
      },
      "execution_count": 16,
      "outputs": [
        {
          "output_type": "stream",
          "name": "stdout",
          "text": [
            "['apple']\n"
          ]
        }
      ]
    },
    {
      "cell_type": "code",
      "source": [
        "#Delete an element in the list.\n",
        "list_3 = [1,2,3,4,5,6,7]\n",
        "print(list_3)"
      ],
      "metadata": {
        "colab": {
          "base_uri": "https://localhost:8080/"
        },
        "id": "Q0sjb10wVcFZ",
        "outputId": "05f9dfa3-5bba-414e-806f-9bd0cd717266"
      },
      "execution_count": 19,
      "outputs": [
        {
          "output_type": "stream",
          "name": "stdout",
          "text": [
            "[1, 2, 3, 4, 5, 6, 7]\n"
          ]
        }
      ]
    },
    {
      "cell_type": "code",
      "source": [
        "del list_3[4]\n",
        "print(list_3)"
      ],
      "metadata": {
        "colab": {
          "base_uri": "https://localhost:8080/"
        },
        "id": "62NGZW_mVu6D",
        "outputId": "026b63a7-b6a9-4e06-fa8b-a1d68336ea84"
      },
      "execution_count": 21,
      "outputs": [
        {
          "output_type": "stream",
          "name": "stdout",
          "text": [
            "[1, 2, 3, 4, 7]\n"
          ]
        }
      ]
    },
    {
      "cell_type": "code",
      "source": [
        "#join two lists\n",
        "print(list_3)\n",
        "print(my_new_list)"
      ],
      "metadata": {
        "colab": {
          "base_uri": "https://localhost:8080/"
        },
        "id": "reE4ESX_WC4G",
        "outputId": "4d970d1b-1ddb-43bb-d00a-edc731a0c837"
      },
      "execution_count": 22,
      "outputs": [
        {
          "output_type": "stream",
          "name": "stdout",
          "text": [
            "[1, 2, 3, 4, 7]\n",
            "[1, 2, 3, 4, 5, 'English', 'Maths', 3.4, 'Apple']\n"
          ]
        }
      ]
    },
    {
      "cell_type": "code",
      "source": [
        "list_4 = list_3 + my_new_list\n",
        "print(list_4)"
      ],
      "metadata": {
        "colab": {
          "base_uri": "https://localhost:8080/"
        },
        "id": "LG8ID90pWYd-",
        "outputId": "1a6b140f-d753-45a4-95de-a5adacf87951"
      },
      "execution_count": 24,
      "outputs": [
        {
          "output_type": "stream",
          "name": "stdout",
          "text": [
            "[1, 2, 3, 4, 7, 1, 2, 3, 4, 5, 'English', 'Maths', 3.4, 'Apple']\n"
          ]
        }
      ]
    },
    {
      "cell_type": "markdown",
      "source": [
        "#Tuple \n",
        "-Tuple are similar to lists but they are immutable. They are enclosed in (..) brackets."
      ],
      "metadata": {
        "id": "z1O1ksHtXSX9"
      }
    },
    {
      "cell_type": "code",
      "source": [
        "tuple_1 =(1,2,3,4,5)\n",
        "print(tuple_1)\n",
        "type(tuple_1)"
      ],
      "metadata": {
        "colab": {
          "base_uri": "https://localhost:8080/"
        },
        "id": "eqiU_AS_XIoX",
        "outputId": "6c3dcbe3-9486-4737-a7d4-f81d02118dc2"
      },
      "execution_count": 27,
      "outputs": [
        {
          "output_type": "stream",
          "name": "stdout",
          "text": [
            "(1, 2, 3, 4, 5)\n"
          ]
        },
        {
          "output_type": "execute_result",
          "data": {
            "text/plain": [
              "tuple"
            ]
          },
          "metadata": {},
          "execution_count": 27
        }
      ]
    },
    {
      "cell_type": "code",
      "source": [
        "#Tuples allow multiple data types.\n",
        "Tuple_2 = (1,2,3,4,5,'English',\"apple\")"
      ],
      "metadata": {
        "id": "zqUsLzjYXxbI"
      },
      "execution_count": 28,
      "outputs": []
    },
    {
      "cell_type": "code",
      "source": [
        "print(Tuple_2)"
      ],
      "metadata": {
        "colab": {
          "base_uri": "https://localhost:8080/"
        },
        "id": "QwvRKCiOYFuB",
        "outputId": "488b2a3f-5756-4dd2-f76b-d2c39666a8f2"
      },
      "execution_count": 29,
      "outputs": [
        {
          "output_type": "stream",
          "name": "stdout",
          "text": [
            "(1, 2, 3, 4, 5, 'English', 'apple')\n"
          ]
        }
      ]
    },
    {
      "cell_type": "code",
      "source": [
        "#Converting a list to tuple.\n",
        "my_tuple = tuple(my_new_list)\n",
        "print(my_tuple)"
      ],
      "metadata": {
        "colab": {
          "base_uri": "https://localhost:8080/"
        },
        "id": "g7x2da4oYR77",
        "outputId": "c000040d-e9e2-49e9-991b-3d26a722c8b7"
      },
      "execution_count": 30,
      "outputs": [
        {
          "output_type": "stream",
          "name": "stdout",
          "text": [
            "(1, 2, 3, 4, 5, 'English', 'Maths', 3.4, 'Apple')\n"
          ]
        }
      ]
    },
    {
      "cell_type": "code",
      "source": [
        "print(my_tuple[1])"
      ],
      "metadata": {
        "colab": {
          "base_uri": "https://localhost:8080/"
        },
        "id": "qpRFZytAYlLd",
        "outputId": "1d66ea60-04f2-4023-e454-abc2adec73ea"
      },
      "execution_count": 31,
      "outputs": [
        {
          "output_type": "stream",
          "name": "stdout",
          "text": [
            "2\n"
          ]
        }
      ]
    },
    {
      "cell_type": "markdown",
      "source": [
        "Tuples are immutable, it means that we cannot add things or delete things in tuples."
      ],
      "metadata": {
        "id": "0YbRmt9SY487"
      }
    },
    {
      "cell_type": "code",
      "source": [
        "#Number of elements in tuple.\n",
        "len(my_tuple)"
      ],
      "metadata": {
        "colab": {
          "base_uri": "https://localhost:8080/"
        },
        "id": "h-rg5j0ZY2oW",
        "outputId": "399e725b-f3bd-4433-beae-40abd4dffe4d"
      },
      "execution_count": 32,
      "outputs": [
        {
          "output_type": "execute_result",
          "data": {
            "text/plain": [
              "9"
            ]
          },
          "metadata": {},
          "execution_count": 32
        }
      ]
    },
    {
      "cell_type": "markdown",
      "source": [
        "#Sets are also mutable , they are represented by {...}, braces."
      ],
      "metadata": {
        "id": "dqtkz2ljZQX5"
      }
    },
    {
      "cell_type": "code",
      "source": [
        "my_set = {1,2,3,4,5}\n",
        "print(my_set)\n",
        "type(my_set)"
      ],
      "metadata": {
        "colab": {
          "base_uri": "https://localhost:8080/"
        },
        "id": "h2WoPxOhZLGo",
        "outputId": "ad2052bf-54e3-4bb6-b569-fe83da519bc9"
      },
      "execution_count": 33,
      "outputs": [
        {
          "output_type": "stream",
          "name": "stdout",
          "text": [
            "{1, 2, 3, 4, 5}\n"
          ]
        },
        {
          "output_type": "execute_result",
          "data": {
            "text/plain": [
              "set"
            ]
          },
          "metadata": {},
          "execution_count": 33
        }
      ]
    },
    {
      "cell_type": "code",
      "source": [
        "# set does not support indexing\n",
        "#Convert list to a set\n",
        "set_1 = set(my_new_list)\n",
        "print(set_1)"
      ],
      "metadata": {
        "colab": {
          "base_uri": "https://localhost:8080/"
        },
        "id": "IzZL9l2YezfL",
        "outputId": "def0a338-3bc8-49b8-e260-4d0db508069b"
      },
      "execution_count": 34,
      "outputs": [
        {
          "output_type": "stream",
          "name": "stdout",
          "text": [
            "{1, 2, 3, 4, 5, 3.4, 'English', 'Maths', 'Apple'}\n"
          ]
        }
      ]
    },
    {
      "cell_type": "code",
      "source": [
        "#set doesnot allow duplicate values.\n",
        "set_2 = {1,1,2,2,3,3,4,5,5,5}\n",
        "print(set_2)"
      ],
      "metadata": {
        "colab": {
          "base_uri": "https://localhost:8080/"
        },
        "id": "bWoMRpUOfKF6",
        "outputId": "f715b210-7f25-4f16-9dc9-4a9c00f00c05"
      },
      "execution_count": 35,
      "outputs": [
        {
          "output_type": "stream",
          "name": "stdout",
          "text": [
            "{1, 2, 3, 4, 5}\n"
          ]
        }
      ]
    },
    {
      "cell_type": "markdown",
      "source": [
        "#Dictionary, it contains key and value pair."
      ],
      "metadata": {
        "id": "Vu9f1EY7ffO2"
      }
    },
    {
      "cell_type": "code",
      "source": [
        "dict_1 = {'name':'david', 'age':23, 'country':'india'}\n",
        "print(dict_1)"
      ],
      "metadata": {
        "colab": {
          "base_uri": "https://localhost:8080/"
        },
        "id": "nEgH1fzyfdwq",
        "outputId": "d1e757f7-36b0-450e-b10d-4962161e153c"
      },
      "execution_count": 36,
      "outputs": [
        {
          "output_type": "stream",
          "name": "stdout",
          "text": [
            "{'name': 'david', 'age': 23, 'country': 'india'}\n"
          ]
        }
      ]
    },
    {
      "cell_type": "code",
      "source": [
        "type(dict_1)"
      ],
      "metadata": {
        "colab": {
          "base_uri": "https://localhost:8080/"
        },
        "id": "sWnYISB6f77p",
        "outputId": "635f0c8e-ef41-4d4a-bde5-090284f119ca"
      },
      "execution_count": 37,
      "outputs": [
        {
          "output_type": "execute_result",
          "data": {
            "text/plain": [
              "dict"
            ]
          },
          "metadata": {},
          "execution_count": 37
        }
      ]
    },
    {
      "cell_type": "code",
      "source": [
        "\n",
        "print(dict_1['name'])\n",
        "print(dict_1['age'])\n",
        "print(dict_1['country'])"
      ],
      "metadata": {
        "colab": {
          "base_uri": "https://localhost:8080/"
        },
        "id": "bCLN0TpigAWH",
        "outputId": "f2bbad8f-d37b-4325-854d-2ef63521b97e"
      },
      "execution_count": 39,
      "outputs": [
        {
          "output_type": "stream",
          "name": "stdout",
          "text": [
            "david\n",
            "23\n",
            "india\n"
          ]
        }
      ]
    },
    {
      "cell_type": "code",
      "source": [
        "#Dictionary does not allow duplicate values.\n",
        "dict_2 = {\"name\":\"Ravi\", \"name\":\"Ravi\"}\n",
        "print(dict_2)"
      ],
      "metadata": {
        "colab": {
          "base_uri": "https://localhost:8080/"
        },
        "id": "au29x8n6gTsC",
        "outputId": "1ba5488d-ad3c-4142-b14f-56dd54eb4aa2"
      },
      "execution_count": 41,
      "outputs": [
        {
          "output_type": "stream",
          "name": "stdout",
          "text": [
            "{'name': 'Ravi'}\n"
          ]
        }
      ]
    },
    {
      "cell_type": "code",
      "source": [
        ""
      ],
      "metadata": {
        "id": "y_sAkwbPgofg"
      },
      "execution_count": null,
      "outputs": []
    }
  ]
}