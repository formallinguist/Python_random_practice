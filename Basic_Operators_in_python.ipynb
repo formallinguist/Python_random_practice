{
  "nbformat": 4,
  "nbformat_minor": 0,
  "metadata": {
    "colab": {
      "name": "Basic_Operators_in python",
      "provenance": []
    },
    "kernelspec": {
      "name": "python3",
      "display_name": "Python 3"
    },
    "language_info": {
      "name": "python"
    }
  },
  "cells": [
    {
      "cell_type": "markdown",
      "source": [
        "#Operators\n",
        "1. Arthematic operator\n",
        "2. Assignment operator\n",
        "3. Comparision operator\n",
        "4. Logical operator\n",
        "5. Identity operator\n",
        "6. Membership operator "
      ],
      "metadata": {
        "id": "rSbCEDCGGVQH"
      }
    },
    {
      "cell_type": "markdown",
      "source": [
        "#Arethematic operator: Basic mathematical operations."
      ],
      "metadata": {
        "id": "5gur20haGuGz"
      }
    },
    {
      "cell_type": "code",
      "execution_count": 1,
      "metadata": {
        "colab": {
          "base_uri": "https://localhost:8080/"
        },
        "id": "7Xp40kSoGMwp",
        "outputId": "f1d05c1b-d96d-4ad7-a17c-b023bfb18892"
      },
      "outputs": [
        {
          "output_type": "stream",
          "name": "stdout",
          "text": [
            "52\n"
          ]
        }
      ],
      "source": [
        "Num_1 = 28\n",
        "num_2 = 24\n",
        "#Addition operator\n",
        "sum = Num_1 + num_2\n",
        "print(sum)"
      ]
    },
    {
      "cell_type": "code",
      "source": [
        "#Substraction operator\n",
        "sum_1 = Num_1 - num_2\n",
        "print(sum_1)"
      ],
      "metadata": {
        "colab": {
          "base_uri": "https://localhost:8080/"
        },
        "id": "-NYAdMjxG_uN",
        "outputId": "09c41ec1-5537-4608-89ba-0a18ae5d216c"
      },
      "execution_count": 2,
      "outputs": [
        {
          "output_type": "stream",
          "name": "stdout",
          "text": [
            "4\n"
          ]
        }
      ]
    },
    {
      "cell_type": "code",
      "source": [
        "#Multiplication\n",
        "pro = Num_1 * num_2\n",
        "print(pro)"
      ],
      "metadata": {
        "colab": {
          "base_uri": "https://localhost:8080/"
        },
        "id": "YMA28sTQHMn4",
        "outputId": "eb89c9cc-d4a5-416b-c40b-cb8816f1f270"
      },
      "execution_count": 3,
      "outputs": [
        {
          "output_type": "stream",
          "name": "stdout",
          "text": [
            "672\n"
          ]
        }
      ]
    },
    {
      "cell_type": "code",
      "source": [
        "#Division \n",
        "quo = Num_1/num_2\n",
        "print(quo)"
      ],
      "metadata": {
        "colab": {
          "base_uri": "https://localhost:8080/"
        },
        "id": "n125G6EsHUoB",
        "outputId": "c4cc19e2-ef44-4b73-985d-726e4946b7f3"
      },
      "execution_count": 5,
      "outputs": [
        {
          "output_type": "stream",
          "name": "stdout",
          "text": [
            "1.1666666666666667\n"
          ]
        }
      ]
    },
    {
      "cell_type": "code",
      "source": [
        "#Exponent\n",
        "expo = Num_1**3\n",
        "print(expo)"
      ],
      "metadata": {
        "colab": {
          "base_uri": "https://localhost:8080/"
        },
        "id": "4l1EcbI8Hhl5",
        "outputId": "44b4e344-7a3f-4fb0-a065-441a0b7b0563"
      },
      "execution_count": 6,
      "outputs": [
        {
          "output_type": "stream",
          "name": "stdout",
          "text": [
            "21952\n"
          ]
        }
      ]
    },
    {
      "cell_type": "code",
      "source": [
        "# modulus\n",
        "mod = Num_1 % num_2\n",
        "print(\"reminder=\", mod)"
      ],
      "metadata": {
        "colab": {
          "base_uri": "https://localhost:8080/"
        },
        "id": "U1jvwYSCHqzr",
        "outputId": "f83fe36b-89c4-4343-ef72-65ddce4c2a8c"
      },
      "execution_count": 8,
      "outputs": [
        {
          "output_type": "stream",
          "name": "stdout",
          "text": [
            "reminder= 4\n"
          ]
        }
      ]
    },
    {
      "cell_type": "markdown",
      "source": [
        "# Assignment operators: they assign values to a variable, '=' sign is assignment operator.\n",
        "1. +=\n",
        "2. -=\n",
        "3. *=\n",
        "4. /=\n",
        "5. %=\n",
        "6. **="
      ],
      "metadata": {
        "id": "irGFoJdZIDe-"
      }
    },
    {
      "cell_type": "code",
      "source": [
        "a = 5\n",
        "a+= 5\n",
        "print(a)"
      ],
      "metadata": {
        "colab": {
          "base_uri": "https://localhost:8080/"
        },
        "id": "NgNcN7sNH8eF",
        "outputId": "65240ba4-d148-4906-a649-517ef5305649"
      },
      "execution_count": 10,
      "outputs": [
        {
          "output_type": "stream",
          "name": "stdout",
          "text": [
            "10\n"
          ]
        }
      ]
    },
    {
      "cell_type": "code",
      "source": [
        "b=10\n",
        "b -=4\n",
        "print(b)"
      ],
      "metadata": {
        "colab": {
          "base_uri": "https://localhost:8080/"
        },
        "id": "Yl9L13r_IT7X",
        "outputId": "23a2846e-b16d-4540-be37-ee7ce705bcf8"
      },
      "execution_count": 11,
      "outputs": [
        {
          "output_type": "stream",
          "name": "stdout",
          "text": [
            "6\n"
          ]
        }
      ]
    },
    {
      "cell_type": "code",
      "source": [
        "b*=6\n",
        "print(b)"
      ],
      "metadata": {
        "colab": {
          "base_uri": "https://localhost:8080/"
        },
        "id": "L_YTmy87Idk_",
        "outputId": "8c7201a9-3321-4815-823a-0d6fb48ad4f9"
      },
      "execution_count": 12,
      "outputs": [
        {
          "output_type": "stream",
          "name": "stdout",
          "text": [
            "36\n"
          ]
        }
      ]
    },
    {
      "cell_type": "code",
      "source": [
        "a/=7\n",
        "print(a)"
      ],
      "metadata": {
        "colab": {
          "base_uri": "https://localhost:8080/"
        },
        "id": "wNlVbEMZI2b4",
        "outputId": "fca0cab0-8594-49db-bb92-f49f3a7c554a"
      },
      "execution_count": 13,
      "outputs": [
        {
          "output_type": "stream",
          "name": "stdout",
          "text": [
            "1.4285714285714286\n"
          ]
        }
      ]
    },
    {
      "cell_type": "code",
      "source": [
        "a %= 6\n",
        "print(a)"
      ],
      "metadata": {
        "colab": {
          "base_uri": "https://localhost:8080/"
        },
        "id": "SqOuPGGOI7pq",
        "outputId": "0ef736fd-cdfa-4c9f-b38c-dc28034a575d"
      },
      "execution_count": 14,
      "outputs": [
        {
          "output_type": "stream",
          "name": "stdout",
          "text": [
            "1.4285714285714286\n"
          ]
        }
      ]
    },
    {
      "cell_type": "code",
      "source": [
        "b **= 9\n",
        "print(b)"
      ],
      "metadata": {
        "colab": {
          "base_uri": "https://localhost:8080/"
        },
        "id": "7c2Naxx_JAD1",
        "outputId": "c7e8e87b-faea-4658-d74c-81dcfca9758f"
      },
      "execution_count": 15,
      "outputs": [
        {
          "output_type": "stream",
          "name": "stdout",
          "text": [
            "101559956668416\n"
          ]
        }
      ]
    },
    {
      "cell_type": "markdown",
      "source": [
        "#Comparision operators they compare two variables. Comparision values gives boolean values as output."
      ],
      "metadata": {
        "id": "fjjcc4SeJI0x"
      }
    },
    {
      "cell_type": "code",
      "source": [
        "a = 5 \n",
        "b =10 \n",
        "a == b"
      ],
      "metadata": {
        "colab": {
          "base_uri": "https://localhost:8080/"
        },
        "id": "TkjLbcViJEkC",
        "outputId": "67001c27-e5d1-4353-c8fc-521322de24eb"
      },
      "execution_count": 16,
      "outputs": [
        {
          "output_type": "execute_result",
          "data": {
            "text/plain": [
              "False"
            ]
          },
          "metadata": {},
          "execution_count": 16
        }
      ]
    },
    {
      "cell_type": "code",
      "source": [
        "a>b"
      ],
      "metadata": {
        "colab": {
          "base_uri": "https://localhost:8080/"
        },
        "id": "Tc0nv2dKJegZ",
        "outputId": "dda3ca5c-de91-4a53-aa82-96103a924a41"
      },
      "execution_count": 17,
      "outputs": [
        {
          "output_type": "execute_result",
          "data": {
            "text/plain": [
              "False"
            ]
          },
          "metadata": {},
          "execution_count": 17
        }
      ]
    },
    {
      "cell_type": "code",
      "source": [
        "a != b"
      ],
      "metadata": {
        "colab": {
          "base_uri": "https://localhost:8080/"
        },
        "id": "y0CHkQBOJgrU",
        "outputId": "d46037a3-a7c3-4dfd-ccb9-3068ceecc6c5"
      },
      "execution_count": 18,
      "outputs": [
        {
          "output_type": "execute_result",
          "data": {
            "text/plain": [
              "True"
            ]
          },
          "metadata": {},
          "execution_count": 18
        }
      ]
    },
    {
      "cell_type": "code",
      "source": [
        "a <= b"
      ],
      "metadata": {
        "colab": {
          "base_uri": "https://localhost:8080/"
        },
        "id": "0wm0v3BTJlEY",
        "outputId": "4b153912-fe2c-442c-9931-83dd4cd960df"
      },
      "execution_count": 19,
      "outputs": [
        {
          "output_type": "execute_result",
          "data": {
            "text/plain": [
              "True"
            ]
          },
          "metadata": {},
          "execution_count": 19
        }
      ]
    },
    {
      "cell_type": "code",
      "source": [
        "a >= b"
      ],
      "metadata": {
        "colab": {
          "base_uri": "https://localhost:8080/"
        },
        "id": "FHJ17f5oJwul",
        "outputId": "c1626a9e-8241-4ebf-addd-146f911be09f"
      },
      "execution_count": 20,
      "outputs": [
        {
          "output_type": "execute_result",
          "data": {
            "text/plain": [
              "False"
            ]
          },
          "metadata": {},
          "execution_count": 20
        }
      ]
    },
    {
      "cell_type": "markdown",
      "source": [
        "#Logical Operator, and, or , not values."
      ],
      "metadata": {
        "id": "5JuMyt0UJ98J"
      }
    },
    {
      "cell_type": "code",
      "source": [
        "a = 10\n",
        "print( a<=10 or a<7)"
      ],
      "metadata": {
        "colab": {
          "base_uri": "https://localhost:8080/"
        },
        "id": "XrtZIkG_Jyc0",
        "outputId": "7cd67181-b287-466d-c8cc-cef69d814c8f"
      },
      "execution_count": 23,
      "outputs": [
        {
          "output_type": "stream",
          "name": "stdout",
          "text": [
            "True\n"
          ]
        }
      ]
    },
    {
      "cell_type": "code",
      "source": [
        "a = 10\n",
        "print ( a>10 and a<7)"
      ],
      "metadata": {
        "colab": {
          "base_uri": "https://localhost:8080/"
        },
        "id": "wG-73UlBKPaA",
        "outputId": "2ea08736-c97e-4dc1-f66a-551187a9a148"
      },
      "execution_count": 22,
      "outputs": [
        {
          "output_type": "stream",
          "name": "stdout",
          "text": [
            "False\n"
          ]
        }
      ]
    },
    {
      "cell_type": "code",
      "source": [
        "print (not ( a>10 and a<7 ))"
      ],
      "metadata": {
        "colab": {
          "base_uri": "https://localhost:8080/"
        },
        "id": "nWMyg5PIKYIA",
        "outputId": "01993d39-27e2-4313-8bfd-923ed42ee534"
      },
      "execution_count": 25,
      "outputs": [
        {
          "output_type": "stream",
          "name": "stdout",
          "text": [
            "True\n"
          ]
        }
      ]
    },
    {
      "cell_type": "markdown",
      "source": [
        "#Identity operator\n",
        "1. is\n",
        "2. is not"
      ],
      "metadata": {
        "id": "OWyU4K7tKuy7"
      }
    },
    {
      "cell_type": "code",
      "source": [
        "x = 5\n",
        "y = 10\n",
        "\n",
        "print(x is y)"
      ],
      "metadata": {
        "colab": {
          "base_uri": "https://localhost:8080/"
        },
        "id": "dN2nwFriKqt8",
        "outputId": "625e1fea-7090-4a7a-83d3-32dc51743771"
      },
      "execution_count": 26,
      "outputs": [
        {
          "output_type": "stream",
          "name": "stdout",
          "text": [
            "False\n"
          ]
        }
      ]
    },
    {
      "cell_type": "code",
      "source": [
        "print(x is not y)"
      ],
      "metadata": {
        "colab": {
          "base_uri": "https://localhost:8080/"
        },
        "id": "-i6P56oKK6Nm",
        "outputId": "21e7356f-5977-48be-f4c0-63ae285327d3"
      },
      "execution_count": 27,
      "outputs": [
        {
          "output_type": "stream",
          "name": "stdout",
          "text": [
            "True\n"
          ]
        }
      ]
    },
    {
      "cell_type": "markdown",
      "source": [
        "#Membership operators.\n",
        "1. in \n",
        "2. not in"
      ],
      "metadata": {
        "id": "5bs2QNhTLHE-"
      }
    },
    {
      "cell_type": "code",
      "source": [
        "a = 5\n",
        "b = 11\n",
        "c = [1,2,3,4,5,6,7,8]\n",
        "a in c"
      ],
      "metadata": {
        "colab": {
          "base_uri": "https://localhost:8080/"
        },
        "id": "ObeItDmEK89j",
        "outputId": "ec89d746-2e66-46c6-a05d-dd7e2d6bfba9"
      },
      "execution_count": 28,
      "outputs": [
        {
          "output_type": "execute_result",
          "data": {
            "text/plain": [
              "True"
            ]
          },
          "metadata": {},
          "execution_count": 28
        }
      ]
    },
    {
      "cell_type": "code",
      "source": [
        "b in c"
      ],
      "metadata": {
        "colab": {
          "base_uri": "https://localhost:8080/"
        },
        "id": "zAPHUlxlLTC7",
        "outputId": "0c9df4ba-93cb-4870-b04a-6f4e54feed9d"
      },
      "execution_count": 29,
      "outputs": [
        {
          "output_type": "execute_result",
          "data": {
            "text/plain": [
              "False"
            ]
          },
          "metadata": {},
          "execution_count": 29
        }
      ]
    },
    {
      "cell_type": "code",
      "source": [
        "b not in c"
      ],
      "metadata": {
        "colab": {
          "base_uri": "https://localhost:8080/"
        },
        "id": "qy8ENNp7LU1X",
        "outputId": "71070321-ce23-4e57-ad4d-69ded9483743"
      },
      "execution_count": 30,
      "outputs": [
        {
          "output_type": "execute_result",
          "data": {
            "text/plain": [
              "True"
            ]
          },
          "metadata": {},
          "execution_count": 30
        }
      ]
    },
    {
      "cell_type": "code",
      "source": [
        "a not in c"
      ],
      "metadata": {
        "colab": {
          "base_uri": "https://localhost:8080/"
        },
        "id": "nKviwKbMLYxo",
        "outputId": "f6513b0c-26dd-4154-d9e2-1df9c0f22059"
      },
      "execution_count": 31,
      "outputs": [
        {
          "output_type": "execute_result",
          "data": {
            "text/plain": [
              "False"
            ]
          },
          "metadata": {},
          "execution_count": 31
        }
      ]
    },
    {
      "cell_type": "code",
      "source": [
        ""
      ],
      "metadata": {
        "id": "NPlU6gKyLbrG"
      },
      "execution_count": null,
      "outputs": []
    }
  ]
}