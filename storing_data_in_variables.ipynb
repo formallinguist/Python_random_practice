{
  "nbformat": 4,
  "nbformat_minor": 0,
  "metadata": {
    "colab": {
      "name": "storing_data_in variables.ipynb",
      "provenance": []
    },
    "kernelspec": {
      "name": "python3",
      "display_name": "Python 3"
    },
    "language_info": {
      "name": "python"
    }
  },
  "cells": [
    {
      "cell_type": "code",
      "source": [
        "\n",
        "\n",
        "Oranges_in_Ravi_bag = 40\n",
        "print('eating.... oranges')\n",
        "\n",
        "Oranges_Ravi_ate = 20\n",
        "\n",
        "Oranges_in_Ravi_bag = Oranges_in_Ravi_bag - Oranges_Ravi_ate\n",
        "print(Oranges_in_Ravi_bag)\n"
      ],
      "metadata": {
        "colab": {
          "base_uri": "https://localhost:8080/"
        },
        "id": "GlFacNtGnizK",
        "outputId": "018276a1-db61-4aea-8661-1affae4c5a0d"
      },
      "execution_count": 3,
      "outputs": [
        {
          "output_type": "stream",
          "name": "stdout",
          "text": [
            "eating.... oranges\n",
            "20\n"
          ]
        }
      ]
    },
    {
      "cell_type": "code",
      "source": [
        "# money in wallet.\n",
        "money_in_my_wallet =  70\n",
        "print('Initial money is',money_in_my_wallet,'Rs')\n",
        "#net price of sweets.\n",
        "price_of_sweets = 10\n",
        "#calculating tax.\n",
        "sales_tax = 0.2* price_of_sweets\n",
        "#calculating gross price( in this we add  tax to the net price of sweets)\n",
        "price_of_sweets += sales_tax\n",
        "#updating the value of money in my wallet.\n",
        "money_in_my_wallet -= price_of_sweets\n",
        "\n",
        "print('Remaining money is',money_in_my_wallet,'Rs')"
      ],
      "metadata": {
        "colab": {
          "base_uri": "https://localhost:8080/"
        },
        "id": "Q5ApYl8ppvno",
        "outputId": "53f9a604-454a-4a1a-c3cd-9ccfa64515bc"
      },
      "execution_count": 9,
      "outputs": [
        {
          "output_type": "stream",
          "name": "stdout",
          "text": [
            "Initial money is 70 Rs\n",
            "Remaining money is 58.0 Rs\n"
          ]
        }
      ]
    }
  ]
}