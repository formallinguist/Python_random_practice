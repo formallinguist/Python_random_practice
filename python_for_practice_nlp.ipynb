{
  "nbformat": 4,
  "nbformat_minor": 0,
  "metadata": {
    "colab": {
      "name": "python_for_practice_nlp.ipynb",
      "provenance": []
    },
    "kernelspec": {
      "name": "python3",
      "display_name": "Python 3"
    },
    "language_info": {
      "name": "python"
    }
  },
  "cells": [
    {
      "cell_type": "code",
      "source": [
        "!pip install nltk\n"
      ],
      "metadata": {
        "colab": {
          "base_uri": "https://localhost:8080/"
        },
        "id": "bEiijrdoHVT6",
        "outputId": "174ca027-76ff-4f9f-8320-868f9be723a1"
      },
      "execution_count": 2,
      "outputs": [
        {
          "output_type": "stream",
          "name": "stdout",
          "text": [
            "Requirement already satisfied: nltk in /usr/local/lib/python3.7/dist-packages (3.2.5)\n",
            "Requirement already satisfied: six in /usr/local/lib/python3.7/dist-packages (from nltk) (1.15.0)\n"
          ]
        }
      ]
    },
    {
      "cell_type": "code",
      "source": [
        "import nltk\n",
        "nltk.download('gutenberg')\n",
        "nltk.download('genesis')\n",
        "nltk.download('inaugural')\n",
        "nltk.download('nps_chat')\n",
        "nltk.download('webtext')\n",
        "nltk.download('treebank')\n"
      ],
      "metadata": {
        "colab": {
          "base_uri": "https://localhost:8080/"
        },
        "id": "AbAWZLrCG5Z3",
        "outputId": "94779b38-2a55-4938-b542-3fb54d6f2f94"
      },
      "execution_count": 18,
      "outputs": [
        {
          "output_type": "stream",
          "name": "stdout",
          "text": [
            "[nltk_data] Downloading package gutenberg to /root/nltk_data...\n",
            "[nltk_data]   Package gutenberg is already up-to-date!\n",
            "[nltk_data] Downloading package genesis to /root/nltk_data...\n",
            "[nltk_data]   Package genesis is already up-to-date!\n",
            "[nltk_data] Downloading package inaugural to /root/nltk_data...\n",
            "[nltk_data]   Package inaugural is already up-to-date!\n",
            "[nltk_data] Downloading package nps_chat to /root/nltk_data...\n",
            "[nltk_data]   Package nps_chat is already up-to-date!\n",
            "[nltk_data] Downloading package webtext to /root/nltk_data...\n",
            "[nltk_data]   Package webtext is already up-to-date!\n",
            "[nltk_data] Downloading package treebank to /root/nltk_data...\n",
            "[nltk_data]   Unzipping corpora/treebank.zip.\n"
          ]
        },
        {
          "output_type": "execute_result",
          "data": {
            "text/plain": [
              "True"
            ]
          },
          "metadata": {},
          "execution_count": 18
        }
      ]
    },
    {
      "cell_type": "code",
      "source": [
        "from nltk.book import*"
      ],
      "metadata": {
        "colab": {
          "base_uri": "https://localhost:8080/"
        },
        "id": "6K3YvGKuHktR",
        "outputId": "90134ec5-2263-4845-a324-17702f566500"
      },
      "execution_count": 19,
      "outputs": [
        {
          "output_type": "stream",
          "name": "stdout",
          "text": [
            "*** Introductory Examples for the NLTK Book ***\n",
            "Loading text1, ..., text9 and sent1, ..., sent9\n",
            "Type the name of the text or sentence to view it.\n",
            "Type: 'texts()' or 'sents()' to list the materials.\n",
            "text1: Moby Dick by Herman Melville 1851\n",
            "text2: Sense and Sensibility by Jane Austen 1811\n",
            "text3: The Book of Genesis\n",
            "text4: Inaugural Address Corpus\n",
            "text5: Chat Corpus\n",
            "text6: Monty Python and the Holy Grail\n",
            "text7: Wall Street Journal\n",
            "text8: Personals Corpus\n",
            "text9: The Man Who Was Thursday by G . K . Chesterton 1908\n"
          ]
        }
      ]
    },
    {
      "cell_type": "code",
      "source": [
        "text1\n"
      ],
      "metadata": {
        "colab": {
          "base_uri": "https://localhost:8080/"
        },
        "id": "ycrnFa9hIlvx",
        "outputId": "d1c29c75-f731-44f8-b2c3-544d551a194d"
      },
      "execution_count": 22,
      "outputs": [
        {
          "output_type": "execute_result",
          "data": {
            "text/plain": [
              "<Text: Moby Dick by Herman Melville 1851>"
            ]
          },
          "metadata": {},
          "execution_count": 22
        }
      ]
    },
    {
      "cell_type": "code",
      "source": [
        "text1.concordance(\"boat\")"
      ],
      "metadata": {
        "colab": {
          "base_uri": "https://localhost:8080/"
        },
        "id": "ST4oWKmiIzs5",
        "outputId": "b2231c6f-f582-4ca5-939a-d81a07375a12"
      },
      "execution_count": 27,
      "outputs": [
        {
          "output_type": "stream",
          "name": "stdout",
          "text": [
            "Displaying 25 of 336 matches:\n",
            "is monster ' s mouth , be it beast , boat , or stone , down it goes all incont\n",
            "cut off his head , and tow it with a boat as near the shore as it will come ; \n",
            "ious monster at length rushed on the boat ; himself and comrades only being pr\n",
            "hey departed .\" -- CRUISE IN A WHALE BOAT . \" Suddenly a mighty mass emerged f\n",
            "Sperm Whale close to the head of the boat , threatening it with instant destru\n",
            "or . They had just landed from their boat , and this was the first house they \n",
            "EKIEL HARDY , Who in the bows of his boat was killed by a Sperm Whale on the c\n",
            "romotion , it seems -- aye , a stove boat will make me an immortal by brevet .\n",
            "ers for Nantucket ; and come a stove boat and stove body when they will , for \n",
            "those used in mounting a ship from a boat at sea . The wife of a whaling capta\n",
            ", get into the same watch , the same boat , the same mess with me , in short t\n",
            "e hands were clearing away the stern boat , Queequeg , stripped to the waist ,\n",
            "other dragging a lifeless form . The boat soon picked them up . The poor bumpk\n",
            " Nantucketer -- ever been in a stove boat ?\" \" No , Sir , I never have .\" \" Do\n",
            "usest parmacetty that ever chipped a boat !-- ah , ah !\" I was a little alarme\n",
            "llied waistcoat ; from that becoming boat - header , chief - mate , and captai\n",
            " ever stand in the head of a whale - boat ? did you ever strike a fish ?\" With\n",
            " young Nat Swaine , once the bravest boat - header out of all Nantucket and th\n",
            "ul Charity had come off in a whale - boat , with her last gift -- a night - ca\n",
            " needed no longer . The stout sail - boat that had accompanied us began rangin\n",
            "st go . Back the main - yard there ! Boat ahoy ! Stand by to come close alongs\n",
            "r the side , and both dropt into the boat . Ship and boat diverged ; the cold \n",
            " both dropt into the boat . Ship and boat diverged ; the cold , damp night bre\n",
            "fishery . \" I will have no man in my boat ,\" said Starbuck , \" who is not afra\n",
            "eless , he presided over his whale - boat as if the most deadly encounter were\n"
          ]
        }
      ]
    },
    {
      "cell_type": "code",
      "source": [
        "text1.similar('sea')"
      ],
      "metadata": {
        "colab": {
          "base_uri": "https://localhost:8080/"
        },
        "id": "QAuQWogcJJsc",
        "outputId": "1f583990-b5ba-478a-886c-8db1c20ae934"
      },
      "execution_count": 31,
      "outputs": [
        {
          "output_type": "stream",
          "name": "stdout",
          "text": [
            "whale ship world deck other pequod captain boat air time water way\n",
            "line whales head wind crew last thing matter\n"
          ]
        }
      ]
    },
    {
      "cell_type": "code",
      "source": [
        "text1.common_contexts([\"sea\",\"boat\"])"
      ],
      "metadata": {
        "colab": {
          "base_uri": "https://localhost:8080/"
        },
        "id": "4-gbZQKuJcl4",
        "outputId": "aa7fd43b-8ca2-434d-a1b9-c5468cab97b9"
      },
      "execution_count": 32,
      "outputs": [
        {
          "output_type": "stream",
          "name": "stdout",
          "text": [
            "the_is the_as the_in the_but the_and the_for the_the the_which the_he\n",
            "the_had every_and the_with the_by the_from the_without the_like the_to\n",
            "the_will the_so the_was\n"
          ]
        }
      ]
    },
    {
      "cell_type": "code",
      "source": [
        "text1.dispersion_plot([\"eat\",\"fight\",\"live\"])"
      ],
      "metadata": {
        "colab": {
          "base_uri": "https://localhost:8080/",
          "height": 295
        },
        "id": "u877TNvWJry0",
        "outputId": "4af03960-e6d4-4ef2-beea-98ee1bc7cc54"
      },
      "execution_count": 33,
      "outputs": [
        {
          "output_type": "display_data",
          "data": {
            "text/plain": [
              "<Figure size 432x288 with 1 Axes>"
            ],
            "image/png": "[encoded data removed]"
          },
          "metadata": {
            "needs_background": "light"
          }
        }
      ]
    }
  ]
}